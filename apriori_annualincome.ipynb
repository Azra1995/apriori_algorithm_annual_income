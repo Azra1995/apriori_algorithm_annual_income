{
 "cells": [
  {
   "cell_type": "code",
   "execution_count": 1,
   "metadata": {},
   "outputs": [],
   "source": [
    "import pandas as pd\n",
    "import xlrd\n",
    "from mlxtend.preprocessing import TransactionEncoder\n",
    "import numpy as np\n",
    "from mlxtend.frequent_patterns import apriori\n",
    "from mlxtend.frequent_patterns import association_rules\n",
    "import plotly.express as px"
   ]
  },
  {
   "cell_type": "code",
   "execution_count": 2,
   "metadata": {},
   "outputs": [],
   "source": [
    "data = pd.read_excel ('set.xlsx', sheet_name='Sheet9', engine='openpyxl')"
   ]
  },
  {
   "cell_type": "code",
   "execution_count": 3,
   "metadata": {},
   "outputs": [
    {
     "data": {
      "text/html": [
       "<div>\n",
       "<style scoped>\n",
       "    .dataframe tbody tr th:only-of-type {\n",
       "        vertical-align: middle;\n",
       "    }\n",
       "\n",
       "    .dataframe tbody tr th {\n",
       "        vertical-align: top;\n",
       "    }\n",
       "\n",
       "    .dataframe thead th {\n",
       "        text-align: right;\n",
       "    }\n",
       "</style>\n",
       "<table border=\"1\" class=\"dataframe\">\n",
       "  <thead>\n",
       "    <tr style=\"text-align: right;\">\n",
       "      <th></th>\n",
       "      <th>InvoiceNo</th>\n",
       "      <th>Product</th>\n",
       "      <th>Quantity</th>\n",
       "      <th>AnnualIncome</th>\n",
       "    </tr>\n",
       "  </thead>\n",
       "  <tbody>\n",
       "    <tr>\n",
       "      <th>0</th>\n",
       "      <td>1</td>\n",
       "      <td>Mlijeko</td>\n",
       "      <td>1</td>\n",
       "      <td>twelve</td>\n",
       "    </tr>\n",
       "    <tr>\n",
       "      <th>1</th>\n",
       "      <td>1</td>\n",
       "      <td>Voda</td>\n",
       "      <td>1</td>\n",
       "      <td>twelve</td>\n",
       "    </tr>\n",
       "    <tr>\n",
       "      <th>2</th>\n",
       "      <td>1</td>\n",
       "      <td>Sokovi</td>\n",
       "      <td>1</td>\n",
       "      <td>twelve</td>\n",
       "    </tr>\n",
       "    <tr>\n",
       "      <th>3</th>\n",
       "      <td>1</td>\n",
       "      <td>Kafa</td>\n",
       "      <td>1</td>\n",
       "      <td>twelve</td>\n",
       "    </tr>\n",
       "    <tr>\n",
       "      <th>4</th>\n",
       "      <td>1</td>\n",
       "      <td>Čokolade</td>\n",
       "      <td>1</td>\n",
       "      <td>twelve</td>\n",
       "    </tr>\n",
       "  </tbody>\n",
       "</table>\n",
       "</div>"
      ],
      "text/plain": [
       "   InvoiceNo   Product  Quantity AnnualIncome\n",
       "0          1   Mlijeko         1       twelve\n",
       "1          1      Voda         1       twelve\n",
       "2          1    Sokovi         1       twelve\n",
       "3          1      Kafa         1       twelve\n",
       "4          1  Čokolade         1       twelve"
      ]
     },
     "execution_count": 3,
     "metadata": {},
     "output_type": "execute_result"
    }
   ],
   "source": [
    "data.head()"
   ]
  },
  {
   "cell_type": "code",
   "execution_count": 4,
   "metadata": {},
   "outputs": [
    {
     "data": {
      "text/plain": [
       "Index(['InvoiceNo', 'Product', 'Quantity', 'AnnualIncome'], dtype='object')"
      ]
     },
     "execution_count": 4,
     "metadata": {},
     "output_type": "execute_result"
    }
   ],
   "source": [
    "data.columns"
   ]
  },
  {
   "cell_type": "code",
   "execution_count": 5,
   "metadata": {},
   "outputs": [
    {
     "data": {
      "text/plain": [
       "array(['Mlijeko', 'Voda', 'Sokovi', 'Kafa', 'Čokolade', 'Bombone', 'Keks',\n",
       "       'Vegeta', 'So', 'Supa', 'Brašno', 'Ulje', 'Tjestenina', 'Začini',\n",
       "       'Sir', 'Jogurt', 'Piletina', 'Teletina', 'Gljive', 'Jabuke',\n",
       "       'Kruške', 'Banane', 'Limun', 'Narandža', 'Čips', 'Kolači',\n",
       "       'Deterdžent', 'Omekšivač', 'Šampon', 'Regenerator', 'Sapun',\n",
       "       'Sredstvazačišćenje', 'Krompir', 'Luk', 'Kupus', 'Paradajz',\n",
       "       'Krastavac', 'Kiselasalata', 'Salata', 'Šećer', 'Nescafe',\n",
       "       'Alkoholnapića', 'Pastazazube', 'Toaletpapir', 'Riža', 'Kukuruz',\n",
       "       'Kreme', 'Smoki', 'Grisini', 'Kikiriki', 'Kokice', 'Žvake',\n",
       "       'Mineralnavoda', 'Ostalagaziranapića', 'Puding', 'Šlag',\n",
       "       'Vrhnjezakuhanje', 'Kockazakafu', 'Puder', 'Maskara', 'Labelo',\n",
       "       'Četkazakosu', 'Parfem', 'Lakzanokte', 'Lakzakosu', 'Aceton',\n",
       "       'Energetskapića', 'Lijekovi', 'Biljnipreparati', 'Čajevi', 'Jaja',\n",
       "       'Hljeb', 'Sjajzausne', 'Karmin', 'Korektor'], dtype=object)"
      ]
     },
     "execution_count": 5,
     "metadata": {},
     "output_type": "execute_result"
    }
   ],
   "source": [
    "data.Product.unique()"
   ]
  },
  {
   "cell_type": "code",
   "execution_count": 6,
   "metadata": {},
   "outputs": [
    {
     "data": {
      "text/plain": [
       "array(['twelve', 'eighteen', 'twentyfour', 'six'], dtype=object)"
      ]
     },
     "execution_count": 6,
     "metadata": {},
     "output_type": "execute_result"
    }
   ],
   "source": [
    "data.AnnualIncome.unique()"
   ]
  },
  {
   "cell_type": "code",
   "execution_count": 7,
   "metadata": {},
   "outputs": [],
   "source": [
    "data['Product'] = data['Product'].str.strip()"
   ]
  },
  {
   "cell_type": "code",
   "execution_count": 8,
   "metadata": {},
   "outputs": [],
   "source": [
    "data.dropna(axis = 0, subset =['InvoiceNo'], inplace = True)\n",
    "data['InvoiceNo'] = data['InvoiceNo'].astype('str')"
   ]
  },
  {
   "cell_type": "code",
   "execution_count": 9,
   "metadata": {},
   "outputs": [],
   "source": [
    "# Buyings for 6\n",
    "basket_six = (data[data['AnnualIncome'] ==\"six\"]\n",
    "          .groupby(['InvoiceNo', 'Product'])['Quantity']\n",
    "          .sum().unstack().reset_index().fillna(0)\n",
    "          .set_index('InvoiceNo'))"
   ]
  },
  {
   "cell_type": "code",
   "execution_count": 10,
   "metadata": {},
   "outputs": [],
   "source": [
    "# Buyings for 12\n",
    "basket_twelve = (data[data['AnnualIncome'] ==\"twelve\"]\n",
    "          .groupby(['InvoiceNo', 'Product'])['Quantity']\n",
    "          .sum().unstack().reset_index().fillna(0)\n",
    "          .set_index('InvoiceNo'))"
   ]
  },
  {
   "cell_type": "code",
   "execution_count": 11,
   "metadata": {},
   "outputs": [],
   "source": [
    "# Buyings for 18\n",
    "basket_eighteen = (data[data['AnnualIncome'] ==\"eighteen\"]\n",
    "          .groupby(['InvoiceNo', 'Product'])['Quantity']\n",
    "          .sum().unstack().reset_index().fillna(0)\n",
    "          .set_index('InvoiceNo'))"
   ]
  },
  {
   "cell_type": "code",
   "execution_count": 12,
   "metadata": {},
   "outputs": [],
   "source": [
    "# Buyings for 24\n",
    "basket_twentyfour = (data[data['AnnualIncome'] ==\"twentyfour\"]\n",
    "          .groupby(['InvoiceNo', 'Product'])['Quantity']\n",
    "          .sum().unstack().reset_index().fillna(0)\n",
    "          .set_index('InvoiceNo'))"
   ]
  },
  {
   "cell_type": "code",
   "execution_count": 13,
   "metadata": {},
   "outputs": [],
   "source": [
    "# Defining the hot encoding function to make the data suitable\n",
    "# for the concerned libraries\n",
    "def hot_encode(x):\n",
    "    if(x<= 0):\n",
    "        return 0\n",
    "    if(x>= 1):\n",
    "        return 1\n",
    " \n",
    "# Encoding the datasets\n",
    "basket_encoded = basket_six.applymap(hot_encode)\n",
    "basket_six = basket_encoded\n",
    " \n",
    "basket_encoded = basket_twelve.applymap(hot_encode)\n",
    "basket_twelve = basket_encoded\n",
    "\n",
    "basket_encoded = basket_eighteen.applymap(hot_encode)\n",
    "basket_eighteen = basket_encoded\n",
    "\n",
    "basket_encoded = basket_twentyfour.applymap(hot_encode)\n",
    "basket_twentyfour = basket_encoded"
   ]
  },
  {
   "cell_type": "code",
   "execution_count": 17,
   "metadata": {},
   "outputs": [
    {
     "name": "stdout",
     "output_type": "stream",
     "text": [
      "     antecedents   consequents  antecedent support  consequent support  \\\n",
      "22  (Deterdžent)      (Brašno)                 0.5                 0.5   \n",
      "23      (Brašno)  (Deterdžent)                 0.5                 0.5   \n",
      "28      (Brašno)          (So)                 0.5                 0.5   \n",
      "29          (So)      (Brašno)                 0.5                 0.5   \n",
      "36      (Vegeta)      (Brašno)                 0.5                 0.5   \n",
      "\n",
      "    support  confidence  lift  leverage  conviction  \n",
      "22      0.5         1.0   2.0      0.25         inf  \n",
      "23      0.5         1.0   2.0      0.25         inf  \n",
      "28      0.5         1.0   2.0      0.25         inf  \n",
      "29      0.5         1.0   2.0      0.25         inf  \n",
      "36      0.5         1.0   2.0      0.25         inf  \n"
     ]
    }
   ],
   "source": [
    "# Building the model for 6\n",
    "frq_items = apriori(basket_six, min_support = 0.5, use_colnames = True)\n",
    " \n",
    "# Collecting the inferred rules in a dataframe\n",
    "rules = association_rules(frq_items, metric =\"lift\", min_threshold = 1)\n",
    "rules = rules.sort_values(['confidence', 'lift'], ascending =[False, False])\n",
    "print(rules.head())"
   ]
  },
  {
   "cell_type": "code",
   "execution_count": 18,
   "metadata": {},
   "outputs": [
    {
     "name": "stdout",
     "output_type": "stream",
     "text": [
      "           antecedents       consequents  antecedent support  \\\n",
      "2905     (Sir, Začini)  (Šampon, Brašno)            0.521739   \n",
      "2908  (Šampon, Brašno)     (Sir, Začini)            0.521739   \n",
      "3759     (Sir, Začini)  (Gljive, Šampon)            0.521739   \n",
      "3762  (Gljive, Šampon)     (Sir, Začini)            0.521739   \n",
      "4389     (Sir, Začini)    (Šampon, Kafa)            0.521739   \n",
      "\n",
      "      consequent support   support  confidence      lift  leverage  conviction  \n",
      "2905            0.521739  0.521739         1.0  1.916667  0.249527         inf  \n",
      "2908            0.521739  0.521739         1.0  1.916667  0.249527         inf  \n",
      "3759            0.521739  0.521739         1.0  1.916667  0.249527         inf  \n",
      "3762            0.521739  0.521739         1.0  1.916667  0.249527         inf  \n",
      "4389            0.521739  0.521739         1.0  1.916667  0.249527         inf  \n"
     ]
    }
   ],
   "source": [
    "# Building the model for 12\n",
    "frq_items = apriori(basket_twelve, min_support = 0.5, use_colnames = True)\n",
    " \n",
    "# Collecting the inferred rules in a dataframe\n",
    "rules = association_rules(frq_items, metric =\"lift\", min_threshold = 1)\n",
    "rules = rules.sort_values(['confidence', 'lift'], ascending =[False, False])\n",
    "print(rules.head())"
   ]
  },
  {
   "cell_type": "code",
   "execution_count": 19,
   "metadata": {},
   "outputs": [
    {
     "name": "stdout",
     "output_type": "stream",
     "text": [
      "              antecedents consequents  antecedent support  consequent support  \\\n",
      "18    (Tjestenina, Hljeb)   (Mlijeko)                0.52                0.74   \n",
      "16  (Mlijeko, Tjestenina)     (Hljeb)                0.54                0.74   \n",
      "12        (Mlijeko, Kafa)     (Hljeb)                0.56                0.74   \n",
      "13          (Kafa, Hljeb)   (Mlijeko)                0.56                0.74   \n",
      "0               (Mlijeko)     (Hljeb)                0.74                0.74   \n",
      "\n",
      "    support  confidence      lift  leverage  conviction  \n",
      "18     0.50    0.961538  1.299376    0.1152    6.760000  \n",
      "16     0.50    0.925926  1.251251    0.1004    3.510000  \n",
      "12     0.50    0.892857  1.206564    0.0856    2.426667  \n",
      "13     0.50    0.892857  1.206564    0.0856    2.426667  \n",
      "0      0.66    0.891892  1.205259    0.1124    2.405000  \n"
     ]
    }
   ],
   "source": [
    "# Building the model for 18\n",
    "frq_items = apriori(basket_eighteen, min_support = 0.5, use_colnames = True)\n",
    " \n",
    "# Collecting the inferred rules in a dataframe\n",
    "rules = association_rules(frq_items, metric =\"lift\", min_threshold = 1)\n",
    "rules = rules.sort_values(['confidence', 'lift'], ascending =[False, False])\n",
    "print(rules.head())"
   ]
  },
  {
   "cell_type": "code",
   "execution_count": 20,
   "metadata": {},
   "outputs": [
    {
     "name": "stdout",
     "output_type": "stream",
     "text": [
      "               antecedents            consequents  antecedent support  \\\n",
      "175    (Deterdžent, Hljeb)          (Toaletpapir)            0.529412   \n",
      "178          (Toaletpapir)    (Deterdžent, Hljeb)            0.529412   \n",
      "180  (Mlijeko, Deterdžent)            (Omekšivač)            0.529412   \n",
      "185            (Omekšivač)  (Mlijeko, Deterdžent)            0.529412   \n",
      "216   (Deterdžent, Šampon)            (Omekšivač)            0.529412   \n",
      "\n",
      "     consequent support   support  confidence      lift  leverage  conviction  \n",
      "175            0.529412  0.529412         1.0  1.888889  0.249135         inf  \n",
      "178            0.529412  0.529412         1.0  1.888889  0.249135         inf  \n",
      "180            0.529412  0.529412         1.0  1.888889  0.249135         inf  \n",
      "185            0.529412  0.529412         1.0  1.888889  0.249135         inf  \n",
      "216            0.529412  0.529412         1.0  1.888889  0.249135         inf  \n"
     ]
    }
   ],
   "source": [
    "# Building the model for 24\n",
    "frq_items = apriori(basket_twentyfour, min_support = 0.5, use_colnames = True)\n",
    " \n",
    "# Collecting the inferred rules in a dataframe\n",
    "rules = association_rules(frq_items, metric =\"lift\", min_threshold = 1)\n",
    "rules = rules.sort_values(['confidence', 'lift'], ascending =[False, False])\n",
    "print(rules.head())"
   ]
  },
  {
   "cell_type": "code",
   "execution_count": null,
   "metadata": {},
   "outputs": [],
   "source": []
  }
 ],
 "metadata": {
  "kernelspec": {
   "display_name": "Python 3",
   "language": "python",
   "name": "python3"
  },
  "language_info": {
   "codemirror_mode": {
    "name": "ipython",
    "version": 3
   },
   "file_extension": ".py",
   "mimetype": "text/x-python",
   "name": "python",
   "nbconvert_exporter": "python",
   "pygments_lexer": "ipython3",
   "version": "3.9.0"
  }
 },
 "nbformat": 4,
 "nbformat_minor": 4
}
